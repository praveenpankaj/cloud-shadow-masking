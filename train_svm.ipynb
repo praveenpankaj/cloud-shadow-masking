{
 "cells": [
  {
   "cell_type": "markdown",
   "id": "c76e947f",
   "metadata": {},
   "source": [
    "### Code for training and testing SVM\n",
    "Before training\n",
    "* Prepare train and test data in separate files (scripts: )\n",
    "* Run hyperparameters tuning & get final C and Gamma (scripts: )"
   ]
  },
  {
   "cell_type": "code",
   "execution_count": 1,
   "id": "58fee73b",
   "metadata": {},
   "outputs": [],
   "source": [
    "# import required libraries\n",
    "import os\n",
    "import time\n",
    "import pickle\n",
    "import numpy as np\n",
    "import pandas as pd\n",
    "import geopandas as gpd\n",
    "from osgeo import gdal\n",
    "from sklearn import svm\n",
    "from sklearn.metrics import accuracy_score\n",
    "from sklearn.metrics import confusion_matrix\n",
    "from sklearn.metrics import multilabel_confusion_matrix"
   ]
  },
  {
   "cell_type": "code",
   "execution_count": 3,
   "id": "91012a7e",
   "metadata": {},
   "outputs": [
    {
     "name": "stderr",
     "output_type": "stream",
     "text": [
      "Intel(R) Extension for Scikit-learn* enabled (https://github.com/intel/scikit-learn-intelex)\n"
     ]
    }
   ],
   "source": [
    "# Code to run sklearn algorithms on all cores of CPU\n",
    "from sklearnex import patch_sklearn\n",
    "patch_sklearn()"
   ]
  },
  {
   "cell_type": "markdown",
   "id": "ee467863",
   "metadata": {},
   "source": [
    "## 1. Data"
   ]
  },
  {
   "cell_type": "code",
   "execution_count": 3,
   "id": "7a031a55",
   "metadata": {},
   "outputs": [],
   "source": [
    "# Training data\n",
    "# 85% of full dataset\n",
    "x = pd.read_csv(\"./training_data/hollstein/x_train_hypertune_svm.csv\")\n",
    "y = pd.read_csv(\"./training_data/hollstein/y_train_hypertune_svm.csv\")\n",
    "\n",
    "x_train = x[['443', '490', '560', '665', '705', '740', '783', '842', '865', '945', '1380', '1610', '2190']]\n",
    "y_train = y[['class']]\n",
    "             \n",
    "# print(x_train.head())\n",
    "# y_train.head()\n",
    "# print(x_train.shape, y_train.shape)"
   ]
  },
  {
   "cell_type": "markdown",
   "id": "2a51e0dc",
   "metadata": {},
   "source": [
    "## 2. Training"
   ]
  },
  {
   "cell_type": "code",
   "execution_count": 5,
   "id": "ad1d3242",
   "metadata": {},
   "outputs": [],
   "source": [
    "# Initialise the model with paramaters\n",
    "svc = svm.SVC(C=0.1,\n",
    "              kernel='rbf',\n",
    "              gamma=0.0001,\n",
    "             probability=True)"
   ]
  },
  {
   "cell_type": "code",
   "execution_count": 6,
   "id": "6ef6b632",
   "metadata": {},
   "outputs": [
    {
     "name": "stderr",
     "output_type": "stream",
     "text": [
      "/home/ubuntu/anaconda3/envs/cloud_cover/lib/python3.6/site-packages/onedal/datatypes/validation.py:126: DataConversionWarning: A column-vector y was passed when a 1d array was expected. Please change the shape of y to (n_samples, ), for example using ravel().\n",
      "  y = _column_or_1d(y, warn=True)\n",
      "/home/ubuntu/anaconda3/envs/cloud_cover/lib/python3.6/site-packages/sklearn/utils/validation.py:72: DataConversionWarning: A column-vector y was passed when a 1d array was expected. Please change the shape of y to (n_samples, ), for example using ravel().\n",
      "  return f(**kwargs)\n"
     ]
    },
    {
     "name": "stdout",
     "output_type": "stream",
     "text": [
      "Training time is : 2674.904105901718\n"
     ]
    }
   ],
   "source": [
    "# Training\n",
    "start = time.time()\n",
    "svc.fit(x_train, y_train)\n",
    "end = time.time()\n",
    "print(\"Training time is :\", end-start)"
   ]
  },
  {
   "cell_type": "code",
   "execution_count": 7,
   "id": "63015083",
   "metadata": {},
   "outputs": [],
   "source": [
    "# Save Model (change the model name)\n",
    "filename = './models/svm_hollstein/svm_c01_rbf_g00001_2cl_cloudcirrus_clear_hollstein_full_170622.sav'\n",
    "pickle.dump(svc, open(filename, 'wb'))"
   ]
  },
  {
   "cell_type": "markdown",
   "id": "ecb832a3",
   "metadata": {},
   "source": [
    "## 3. Testing"
   ]
  },
  {
   "cell_type": "code",
   "execution_count": 6,
   "id": "1a03c731",
   "metadata": {},
   "outputs": [],
   "source": [
    "# load model\n",
    "# filename = './models/svm_hollstein/svm_c100_rbf_g1_6cl_hypertunedata2_hollstein.sav'\n",
    "filename = './models/svm_hollstein/svm_c100_rbf_g1_hollstein_13i_6o.sav'\n",
    "model = pickle.load(open(filename, 'rb'))"
   ]
  },
  {
   "cell_type": "code",
   "execution_count": 7,
   "id": "90b70a6a",
   "metadata": {},
   "outputs": [],
   "source": [
    "# load test data\n",
    "x_test = pd.read_csv(\"./training_data/hollstein/x_test_hypertune_svm.csv\")\n",
    "x_test = x_test[['443', '490', '560', '665', '705', '740', '783', '842', '865', '945', '1380', '1610', '2190']]\n",
    "y_test = pd.read_csv(\"./training_data/hollstein/y_test_hypertune_svm.csv\")\n",
    "y_test = y_test[['class']]\n",
    "# print(x_test.head())\n",
    "# print(y_test.head())"
   ]
  },
  {
   "cell_type": "code",
   "execution_count": 8,
   "id": "45446921",
   "metadata": {
    "scrolled": true
   },
   "outputs": [
    {
     "name": "stdout",
     "output_type": "stream",
     "text": [
      "Accuracy Score:  0.9868165144905411\n",
      "Confusion matrix \n",
      " [[36753    53     1   744   148   479]\n",
      " [   13 16938     0     0     0    78]\n",
      " [   11     1 15463    13     0     0]\n",
      " [  596   280    76 74348    33    30]\n",
      " [  126     0     2    67 72328     0]\n",
      " [  324    75     0     2     0 20105]]\n"
     ]
    }
   ],
   "source": [
    "# Accuracy Score and Confusion Matrix\n",
    "y_pred_test = model.predict(x_test)\n",
    "c_matrix = confusion_matrix(y_test, y_pred_test)\n",
    "acc = accuracy_score(y_test, y_pred_test)\n",
    "\n",
    "print(\"Accuracy Score: \", acc)\n",
    "print (\"Confusion matrix \\n\", c_matrix)"
   ]
  },
  {
   "cell_type": "code",
   "execution_count": 9,
   "id": "b022fbee",
   "metadata": {},
   "outputs": [
    {
     "name": "stdout",
     "output_type": "stream",
     "text": [
      "Accuracy of Test data\n",
      "               IoU Score  Precision    Recall   F-Score\n",
      "clear pixels   0.936430   0.971710  0.962675  0.967171\n",
      "Water          0.971327   0.976422  0.994656  0.985455\n",
      "snow           0.993319   0.994917  0.998386  0.996648\n",
      "cirrus         0.975836   0.989012  0.986532  0.987770\n",
      "cloud          0.994828   0.997504  0.997311  0.997407\n",
      "shadow         0.953160   0.971632  0.980445  0.976018\n"
     ]
    }
   ],
   "source": [
    "# Accuracy metrics (IoU Score, Precision, Recall and F-Score) for each class\n",
    "def acc_metrics(y_test, y_pred, num_classes=6):\n",
    "    cm_multi = multilabel_confusion_matrix(y_test, y_pred)\n",
    "    result_array = np.zeros(shape=(num_classes,4))\n",
    "    for j in range(len(cm_multi)):\n",
    "        iou = cm_multi[j][1][1] / (cm_multi[j][1][1] + cm_multi[j][0][1] + cm_multi[j][1][0]) # IoU Score\n",
    "        prec = cm_multi[j][1][1] / (cm_multi[j][1][1] + cm_multi[j][0][1]) # Precision\n",
    "        rec = cm_multi[j][1][1] / (cm_multi[j][1][1] + cm_multi[j][1][0])  # Recall\n",
    "        f_sco = (2 * prec * rec) / (prec + rec) # F-Score\n",
    "        result_array[j] = result_array[j] + np.array([iou, prec, rec, f_sco])\n",
    "    return result_array\n",
    "\n",
    "index_values = ['clear pixels', 'Water', 'snow', 'cirrus', 'cloud', 'shadow']\n",
    "# index_values = ['non clear pixels', 'clear pixels']\n",
    "column_values = ['IoU Score', 'Precision', 'Recall', 'F-Score']\n",
    "\n",
    "results_array = acc_metrics(y_test, y_pred_test)\n",
    "df_ann = pd.DataFrame(data = results_array, index = index_values, columns = column_values)\n",
    "print(\"Accuracy of Test data\\n\", df_ann)"
   ]
  },
  {
   "cell_type": "code",
   "execution_count": 11,
   "id": "656ccee5",
   "metadata": {},
   "outputs": [],
   "source": [
    "# Accuracy of different types of clouds (with Pixbox data)\n",
    "# load data\n",
    "pix_df = pd.read_csv(\"./reference_data/pixbox/pixbox_28tiles2.csv\")\n",
    "pix_df2 = pix_df[['B1', 'B2', 'B3', 'B4', 'B5', 'B6','B7', 'B8', 'B8A', 'B9', 'B10', 'B11', 'B12']]\n",
    "# pix_df2.head()"
   ]
  },
  {
   "cell_type": "code",
   "execution_count": 12,
   "id": "d2ff3c24",
   "metadata": {},
   "outputs": [],
   "source": [
    "# Predict\n",
    "y_pred_pix = model.predict(pix_df2)"
   ]
  },
  {
   "cell_type": "code",
   "execution_count": 13,
   "id": "62404dc2",
   "metadata": {},
   "outputs": [],
   "source": [
    "# add results to the main dataframe\n",
    "pix_df['model_ot'] = y_pred_pix"
   ]
  },
  {
   "cell_type": "code",
   "execution_count": 15,
   "id": "5250e9d6",
   "metadata": {},
   "outputs": [
    {
     "name": "stdout",
     "output_type": "stream",
     "text": [
      "2 2076 1108 0.5337186897880539\n",
      "3 32 32 1.0\n",
      "4 889 656 0.7379077615298087\n",
      "5 1813 1053 0.5808052950910094\n",
      "6 2625 1454 0.5539047619047619\n",
      "7 8296 4703 0.5668997107039537\n",
      "10 117 60 0.5128205128205128\n",
      "11 128 128 1.0\n"
     ]
    }
   ],
   "source": [
    "# Prints class id, Number of pixels in class, True Possitives and Accuracy (refer confluence page)\n",
    "for i in [2, 3, 4, 5, 6, 7, 10, 11]:\n",
    "    temp = pix_df[pix_df['CLOUD_CHARACTERISTICS_ID']==i]\n",
    "    size, _ = temp.shape\n",
    "    if i == 7:\n",
    "        temp2 = temp[(temp['model_ot']==0) |  (temp['model_ot']==1) | (temp['model_ot']==5)]\n",
    "    else:\n",
    "        temp2 = temp[(temp['model_ot']==2) | (temp['model_ot']==3) | (temp['model_ot']==4)]\n",
    "    true_size, _ = temp2.shape\n",
    "    print(i, size, true_size, true_size/size)"
   ]
  }
 ],
 "metadata": {
  "kernelspec": {
   "display_name": "Python [conda env:cloud_cover]",
   "language": "python",
   "name": "conda-env-cloud_cover-py"
  },
  "language_info": {
   "codemirror_mode": {
    "name": "ipython",
    "version": 3
   },
   "file_extension": ".py",
   "mimetype": "text/x-python",
   "name": "python",
   "nbconvert_exporter": "python",
   "pygments_lexer": "ipython3",
   "version": "3.6.13"
  }
 },
 "nbformat": 4,
 "nbformat_minor": 5
}
