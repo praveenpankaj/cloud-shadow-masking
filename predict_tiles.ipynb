{
 "cells": [
  {
   "cell_type": "markdown",
   "id": "90b10d50",
   "metadata": {},
   "source": [
    "### Predict Sentinel tiles using SVM/RF/ANN Models"
   ]
  },
  {
   "cell_type": "code",
   "execution_count": 1,
   "id": "d8df7664",
   "metadata": {},
   "outputs": [],
   "source": [
    "import time\n",
    "import pickle\n",
    "import numpy as np\n",
    "from osgeo import gdal\n",
    "# from tensorflow.keras.models import load_model # uncomment if you are using ANN\n",
    "import matplotlib.pyplot as plt"
   ]
  },
  {
   "cell_type": "markdown",
   "id": "90a901d6",
   "metadata": {},
   "source": [
    "## Load Models"
   ]
  },
  {
   "cell_type": "code",
   "execution_count": 4,
   "id": "e9170081",
   "metadata": {},
   "outputs": [],
   "source": [
    "# Load SVM Model\n",
    "model_name = './models/svm_hollstein/svm_c100_rbf_g1_hollstein_13i_6o.sav'\n",
    "\n",
    "svm = pickle.load(open(model_name, 'rb'))"
   ]
  },
  {
   "cell_type": "markdown",
   "id": "9ccfe190",
   "metadata": {},
   "source": [
    "## Read and predict tile"
   ]
  },
  {
   "cell_type": "code",
   "execution_count": 5,
   "id": "de49bb94",
   "metadata": {},
   "outputs": [],
   "source": [
    "# Function to predict the cloud mask\n",
    "# Inputs: Filename of tif with 13 bands and loaded model (RF or ANN or SVM)\n",
    "def predict_tile_ann(filename, model):\n",
    "    \n",
    "    test_image = gdal.Open(filename)\n",
    "    \n",
    "    test_array = test_image.ReadAsArray()\n",
    "    test_array2 = test_array.transpose(1, 2, 0)/10000\n",
    "    \n",
    "    shp = test_array2.shape\n",
    "    input_array = test_array2.reshape(shp[0]*shp[1],shp[2])\n",
    "    predicted_array = model.predict(input_array)\n",
    "#     predicted_array = model.predict_proba(input_array)\n",
    "    \n",
    "    if len(predicted_array.shape) > 1:\n",
    "        predicted_array = np.argmax(predicted_array, axis=1) #this line is ANN one-hot encoding labels\n",
    "\n",
    "    predicted_array2 = predicted_array.reshape(shp[0],shp[1])\n",
    "    band_2 = test_array2[:, :, 1:2].reshape(shp[0],shp[1])\n",
    "    final_array = np.where(band_2 == 0, np.nan, predicted_array2)\n",
    "    \n",
    "    return final_array"
   ]
  },
  {
   "cell_type": "code",
   "execution_count": null,
   "id": "a57ba848",
   "metadata": {},
   "outputs": [],
   "source": [
    "# Predict tile\n",
    "start = time.time()\n",
    "# tile_name = \"./tiff_images/S2A_MSIL1C_20220416T074621_N0400_R135_T35JPN_20220416T094522.tif\"\n",
    "tile_name = \"./tiff_images/S2A_MSIL1C_20220124T053111_N0301_R105_T43QEV_20220124T062018.tif\"\n",
    "output_array = predict_tile_ann(tile_name, svm)\n",
    "end = time.time()\n",
    "print(\"Training time is :\", end-start)"
   ]
  },
  {
   "cell_type": "code",
   "execution_count": null,
   "id": "6488aac2",
   "metadata": {},
   "outputs": [],
   "source": [
    "# save classified image as tif image\n",
    "output_image = \"./results/S2A_MSIL1C_20220124T053111_N0301_R105_T43QEV_20220124T062018_0.tif\"\n",
    "outdriver = gdal.GetDriverByName(\"GTiff\")\n",
    "\n",
    "shp = output_array.shape\n",
    "outdata = outdriver.Create(output_image, shp[1], shp[0], 1, gdal.GDT_Float32)\n",
    "outdata.GetRasterBand(1).WriteArray(final_array)\n",
    "\n",
    "test_image = gdal.Open(tile_name)\n",
    "trans = test_image.GetGeoTransform()\n",
    "proj = test_image.GetProjection()\n",
    "outdata.SetGeoTransform(trans)\n",
    "outdata.SetProjection(proj)\n",
    "del outdata"
   ]
  }
 ],
 "metadata": {
  "kernelspec": {
   "display_name": "Python 3 (ipykernel)",
   "language": "python",
   "name": "python3"
  },
  "language_info": {
   "codemirror_mode": {
    "name": "ipython",
    "version": 3
   },
   "file_extension": ".py",
   "mimetype": "text/x-python",
   "name": "python",
   "nbconvert_exporter": "python",
   "pygments_lexer": "ipython3",
   "version": "3.9.7"
  }
 },
 "nbformat": 4,
 "nbformat_minor": 5
}
